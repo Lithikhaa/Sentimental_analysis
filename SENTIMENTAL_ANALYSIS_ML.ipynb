{
  "nbformat": 4,
  "nbformat_minor": 0,
  "metadata": {
    "colab": {
      "provenance": [],
      "include_colab_link": true
    },
    "kernelspec": {
      "name": "python3",
      "display_name": "Python 3"
    },
    "language_info": {
      "name": "python"
    }
  },
  "cells": [
    {
      "cell_type": "markdown",
      "metadata": {
        "id": "view-in-github",
        "colab_type": "text"
      },
      "source": [
        "<a href=\"https://colab.research.google.com/github/Lithikhaa/Sentimental_analysis/blob/main/SENTIMENTAL_ANALYSIS_ML.ipynb\" target=\"_parent\"><img src=\"https://colab.research.google.com/assets/colab-badge.svg\" alt=\"Open In Colab\"/></a>"
      ]
    },
    {
      "cell_type": "code",
      "source": [
        "import nltk\n",
        "      \n",
        "\n",
        "nltk.download('movie_reviews')"
      ],
      "metadata": {
        "colab": {
          "base_uri": "https://localhost:8080/"
        },
        "id": "AsA9cmALpsmL",
        "outputId": "036dde66-6a10-4223-98f8-02bb2d86fc77"
      },
      "execution_count": null,
      "outputs": [
        {
          "output_type": "stream",
          "name": "stderr",
          "text": [
            "[nltk_data] Downloading package movie_reviews to /root/nltk_data...\n",
            "[nltk_data]   Package movie_reviews is already up-to-date!\n"
          ]
        },
        {
          "output_type": "execute_result",
          "data": {
            "text/plain": [
              "True"
            ]
          },
          "metadata": {},
          "execution_count": 2
        }
      ]
    },
    {
      "cell_type": "code",
      "source": [
        "import nltk\n",
        "from nltk.corpus import movie_reviews\n",
        "from nltk.classify import NaiveBayesClassifier\n",
        "from nltk.classify.util import accuracy\n",
        "\n",
        "# Load dataset\n",
        "nltk.download('movie_reviews')\n",
        "documents = [(list(movie_reviews.words(fileid)), category)\n",
        "             for category in movie_reviews.categories()\n",
        "             for fileid in movie_reviews.fileids(category)]\n",
        "\n",
        "# Split dataset into training and testing sets\n",
        "train_set = documents[:1500]\n",
        "test_set = documents[1500:]\n",
        "\n",
        "# Define feature extractor\n",
        "def word_features(words):\n",
        "    return dict([(word, True) for word in words])\n",
        "\n",
        "# Extract features from text\n",
        "training_features = [(word_features(doc), category) for (doc, category) in train_set]\n",
        "testing_features = [(word_features(doc), category) for (doc, category) in test_set]\n",
        "\n",
        "# Train Naive Bayes classifier\n",
        "classifier = NaiveBayesClassifier.train(training_features)\n",
        "\n",
        "# Evaluate accuracy of classifier\n",
        "print('Accuracy:', accuracy(classifier, testing_features))"
      ],
      "metadata": {
        "colab": {
          "base_uri": "https://localhost:8080/"
        },
        "id": "9PiPwthpp2-y",
        "outputId": "ab30879e-3c17-447e-9232-cdc8b6001fad"
      },
      "execution_count": null,
      "outputs": [
        {
          "output_type": "stream",
          "name": "stderr",
          "text": [
            "[nltk_data] Downloading package movie_reviews to /root/nltk_data...\n",
            "[nltk_data]   Unzipping corpora/movie_reviews.zip.\n"
          ]
        },
        {
          "output_type": "stream",
          "name": "stdout",
          "text": [
            "Accuracy: 0.942\n"
          ]
        }
      ]
    }
  ]
}